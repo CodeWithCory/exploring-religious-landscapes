{
 "cells": [
  {
   "cell_type": "markdown",
   "source": [
    "# Exploring Religious Landscapes\n",
    "\n",
    "Exploring religious landscapes in the U.S."
   ],
   "metadata": {}
  },
  {
   "cell_type": "code",
   "execution_count": 10,
   "source": [
    "import os\n",
    "import sys\n",
    "import folium\n",
    "import fiona\n",
    "import geopandas as gpd\n"
   ],
   "outputs": [],
   "metadata": {}
  },
  {
   "cell_type": "code",
   "execution_count": 21,
   "source": [
    "\n",
    "def get_geodatabase_layers(gdbFilePath:str):\n",
    "  return fiona.listlayers(gdbFilePath)\n",
    "\n",
    "def get_geodataframe_from_geodatabase(gdb_filepath:str, layer_name:str):\n",
    "  return gpd.read_file(gdb_filepath, layer=layer_name)\n"
   ],
   "outputs": [],
   "metadata": {}
  },
  {
   "cell_type": "code",
   "execution_count": null,
   "source": [
    "\n",
    "# Explore data\n",
    "\n",
    "# data = gpd.read_file(\"../../Downloads/tl_2020_us_cbsa/tl_2020_us_cbsa.shp\")\n",
    "\n",
    "# get_geodatabase_layers(\"../../Downloads/ACS_2019_5YR_COUNTY.gdb\")\n",
    "# data = get_geodataframe_from_geodatabase(\"../../Downloads/ACS_2019_5YR_COUNTY.gdb\", \"ACS_2019_5YR_COUNTY\")\n",
    "\n",
    "# get_geodatabase_layers(\"../../Downloads/ACS_2019_5YR_METDIV.gdb\")\n",
    "# data = get_geodataframe_from_geodatabase(\"../../Downloads/ACS_2019_5YR_METDIV.gdb\", \"ACS_2019_5YR_METDIV\")\n"
   ],
   "outputs": [],
   "metadata": {}
  },
  {
   "cell_type": "code",
   "execution_count": null,
   "source": [
    "\n",
    "# print(\"First row:\")\n",
    "# data.iloc[0]"
   ],
   "outputs": [],
   "metadata": {}
  },
  {
   "cell_type": "code",
   "execution_count": null,
   "source": [],
   "outputs": [],
   "metadata": {}
  }
 ],
 "metadata": {
  "orig_nbformat": 4,
  "language_info": {
   "name": "python",
   "version": "3.8.12",
   "mimetype": "text/x-python",
   "codemirror_mode": {
    "name": "ipython",
    "version": 3
   },
   "pygments_lexer": "ipython3",
   "nbconvert_exporter": "python",
   "file_extension": ".py"
  },
  "kernelspec": {
   "name": "python3",
   "display_name": "Python 3.8.12 64-bit ('gis': conda)"
  },
  "interpreter": {
   "hash": "78c5fa8bdd94e901ff24cb7ffbc94f0b3865a45056e421a883ba964b48d41cf0"
  }
 },
 "nbformat": 4,
 "nbformat_minor": 2
}